{
 "cells": [
  {
   "cell_type": "code",
   "execution_count": 17,
   "metadata": {},
   "outputs": [],
   "source": [
    "from alpha_vantage.timeseries import TimeSeries\n",
    "import pandas as pd\n",
    "import os\n",
    "# from dotenv import load_dotenv\n",
    "import logging\n",
    "import requests\n",
    "from datetime import datetime\n",
    "import time\n"
   ]
  },
  {
   "cell_type": "code",
   "execution_count": 15,
   "metadata": {},
   "outputs": [],
   "source": [
    "def test_batch_quotes(api_key, tickers):\n",
    "    \"\"\"Test quotes from Alpha Vantage using individual calls\"\"\"\n",
    "    try:\n",
    "        logger.info(f\"Fetching prices for: {tickers}\")\n",
    "        results = {}\n",
    "        \n",
    "        for ticker in tickers:\n",
    "            url = f'https://www.alphavantage.co/query?function=GLOBAL_QUOTE&symbol={ticker}&apikey={api_key}'\n",
    "            response = requests.get(url)\n",
    "            data = response.json()\n",
    "            \n",
    "            if 'Global Quote' in data:\n",
    "                quote = data['Global Quote']\n",
    "                price = float(quote['05. price'])\n",
    "                timestamp = quote['07. latest trading day']\n",
    "                results[ticker] = {'price': price, 'timestamp': timestamp}\n",
    "                logger.info(f\"{ticker}: ${price:.2f} at {timestamp}\")\n",
    "            else:\n",
    "                logger.warning(f\"No quote found for {ticker}\")\n",
    "                logger.debug(f\"Response for {ticker}: {data}\")\n",
    "            \n",
    "            # Add a small delay to avoid hitting rate limits\n",
    "            time.sleep(0.5)\n",
    "                \n",
    "        return results\n",
    "            \n",
    "    except Exception as e:\n",
    "        logger.error(f\"Error fetching quotes: {str(e)}\")\n",
    "        logger.error(f\"Full error details:\", exc_info=True)\n",
    "        return None"
   ]
  },
  {
   "cell_type": "code",
   "execution_count": 18,
   "metadata": {},
   "outputs": [
    {
     "name": "stderr",
     "output_type": "stream",
     "text": [
      "INFO:__main__:Fetching prices for: ['AAPL', 'MSFT', 'GOOGL', 'AMZN', 'META', 'SPY', 'QQQ', 'GXAI']\n",
      "INFO:__main__:AAPL: $242.84 at 2024-12-06\n",
      "INFO:__main__:MSFT: $443.57 at 2024-12-06\n",
      "INFO:__main__:GOOGL: $174.71 at 2024-12-06\n",
      "INFO:__main__:AMZN: $227.03 at 2024-12-06\n",
      "INFO:__main__:META: $623.77 at 2024-12-06\n",
      "INFO:__main__:SPY: $607.81 at 2024-12-06\n",
      "INFO:__main__:QQQ: $526.48 at 2024-12-06\n",
      "INFO:__main__:GXAI: $2.60 at 2024-12-06\n"
     ]
    },
    {
     "data": {
      "text/plain": [
       "{'AAPL': {'price': 242.84, 'timestamp': '2024-12-06'},\n",
       " 'MSFT': {'price': 443.57, 'timestamp': '2024-12-06'},\n",
       " 'GOOGL': {'price': 174.71, 'timestamp': '2024-12-06'},\n",
       " 'AMZN': {'price': 227.03, 'timestamp': '2024-12-06'},\n",
       " 'META': {'price': 623.77, 'timestamp': '2024-12-06'},\n",
       " 'SPY': {'price': 607.81, 'timestamp': '2024-12-06'},\n",
       " 'QQQ': {'price': 526.48, 'timestamp': '2024-12-06'},\n",
       " 'GXAI': {'price': 2.6, 'timestamp': '2024-12-06'}}"
      ]
     },
     "execution_count": 18,
     "metadata": {},
     "output_type": "execute_result"
    }
   ],
   "source": [
    "\n",
    "# Load API key from .env file\n",
    "# load_dotenv()\n",
    "with open('api_key.key', 'r') as file:\n",
    "    api_key = file.read().strip()   \n",
    "\n",
    "# Test with a few tickers\n",
    "test_tickers = ['AAPL', 'MSFT', 'GOOGL', 'AMZN', 'META', 'SPY', 'QQQ', 'GXAI']\n",
    "\n",
    "test_batch_quotes(api_key, test_tickers)"
   ]
  },
  {
   "cell_type": "code",
   "execution_count": 10,
   "metadata": {},
   "outputs": [
    {
     "data": {
      "text/plain": [
       "'NYZ9HGNJT8EOZNOR'"
      ]
     },
     "execution_count": 10,
     "metadata": {},
     "output_type": "execute_result"
    }
   ],
   "source": [
    "api_key"
   ]
  },
  {
   "cell_type": "code",
   "execution_count": null,
   "metadata": {},
   "outputs": [],
   "source": []
  }
 ],
 "metadata": {
  "kernelspec": {
   "display_name": "venv",
   "language": "python",
   "name": "python3"
  },
  "language_info": {
   "codemirror_mode": {
    "name": "ipython",
    "version": 3
   },
   "file_extension": ".py",
   "mimetype": "text/x-python",
   "name": "python",
   "nbconvert_exporter": "python",
   "pygments_lexer": "ipython3",
   "version": "3.12.1"
  }
 },
 "nbformat": 4,
 "nbformat_minor": 2
}
